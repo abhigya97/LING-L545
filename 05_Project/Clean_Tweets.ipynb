{
  "cells": [
    {
      "cell_type": "code",
      "execution_count": null,
      "metadata": {},
      "outputs": [],
      "source": [
        "import pandas as pd\n",
        "from nlpretext.social.preprocess import remove_emoji\n",
        "from nlpretext.social.preprocess import remove_hashtag\n",
        "from nlpretext.social.preprocess import remove_mentions\n",
        "from nlpretext.basic.preprocess import replace_urls"
      ]
    },
    {
      "cell_type": "code",
      "execution_count": null,
      "metadata": {
        "id": "sG-OlRgTkGiq"
      },
      "outputs": [],
      "source": [
        "from google.colab import drive\n",
        "\n",
        "drive.mount('/content/gdrive')"
      ]
    },
    {
      "cell_type": "code",
      "execution_count": null,
      "metadata": {
        "id": "LcymLsGcj_xK"
      },
      "outputs": [],
      "source": [
        "colnames=['Sentiment', 'Tweet_ID', 'Date', 'Query', 'User ID', 'Tweet']"
      ]
    },
    {
      "cell_type": "code",
      "execution_count": null,
      "metadata": {
        "id": "uitsctbFj_zt"
      },
      "outputs": [],
      "source": [
        "# Loading the dataset into a dataframe.\n",
        "df = pd.read_csv('gdrive/MyDrive/Training_data.csv', names = colnames, encoding='latin-1') "
      ]
    },
    {
      "cell_type": "code",
      "execution_count": null,
      "metadata": {
        "id": "MzVJgsuhj_2z"
      },
      "outputs": [],
      "source": [
        "# Dropping the columns that are of no use.\n",
        "df = df.drop('Tweet_ID', axis=1)\n",
        "df = df.drop('Date', axis=1)\n",
        "df = df.drop('Query', axis=1)"
      ]
    },
    {
      "cell_type": "code",
      "execution_count": null,
      "metadata": {
        "id": "8q5sA3tZkJBi"
      },
      "outputs": [],
      "source": [
        "# Converting tweets into a list\n",
        "tweets_list = df.Tweet.values.tolist()"
      ]
    },
    {
      "cell_type": "code",
      "execution_count": null,
      "metadata": {
        "id": "Ig5LvvDxkJD7"
      },
      "outputs": [],
      "source": [
        "# Cleaning the tweets.\n",
        "def get_clean_text(tweets_list):\n",
        "        \n",
        "    tweets = []\n",
        "    \n",
        "    for line in tweets_list:\n",
        "        line = remove_emoji(line)\n",
        "        line = remove_hashtag(line)\n",
        "#         line = remove_mentions(line)\n",
        "        line = replace_urls(line, \"\")\n",
        "        tweets.append(line)\n",
        "    \n",
        "    return tweets"
      ]
    },
    {
      "cell_type": "code",
      "execution_count": null,
      "metadata": {
        "id": "2a-q_0jIkJGf"
      },
      "outputs": [],
      "source": [
        "tweets = get_clean_text(tweets_list)"
      ]
    },
    {
      "cell_type": "code",
      "execution_count": null,
      "metadata": {
        "id": "Y61SwpPukNgC"
      },
      "outputs": [],
      "source": [
        "# Updating the dataframe with the clean tweets.\n",
        "df['Clean_Tweets'] = tweets\n",
        "df = df.drop('Tweet', axis=1)"
      ]
    },
    {
      "cell_type": "code",
      "execution_count": null,
      "metadata": {
        "id": "Yab5ae2SkNk_"
      },
      "outputs": [],
      "source": [
        "# Saving the processed dataset.\n",
        "df.to_csv('gdrive/MyDrive/clean_tweets_sentiment.csv', encoding='utf-8', index=False)"
      ]
    }
  ],
  "metadata": {
    "colab": {
      "provenance": []
    },
    "kernelspec": {
      "display_name": "Python 3",
      "language": "python",
      "name": "python3"
    },
    "language_info": {
      "name": "python",
      "version": "3.10.8 (main, Oct 13 2022, 10:17:43) [Clang 14.0.0 (clang-1400.0.29.102)]"
    },
    "vscode": {
      "interpreter": {
        "hash": "aee8b7b246df8f9039afb4144a1f6fd8d2ca17a180786b69acc140d282b71a49"
      }
    }
  },
  "nbformat": 4,
  "nbformat_minor": 0
}
